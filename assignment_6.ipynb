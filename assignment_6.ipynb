{
 "cells": [
  {
   "cell_type": "markdown",
   "metadata": {},
   "source": [
    "# Assignment 6"
   ]
  },
  {
   "cell_type": "markdown",
   "metadata": {},
   "source": [
    "**Exercise 1:**  write a Python program to find palindromes in a given list of strings using Lambda.\n",
    "\n",
    "Apply the Python program for the following two lists:\n",
    "\n",
    "**Input 1:** ```['civic', 'Lambda', 'Python', 'QTM', 'Java', 'ana']```\n",
    "\n",
    "**Output 1:** ```['civic', 'ana']```\n",
    "\n",
    "**Input 2:** ```['nurses run', 'Nurses Run', 'madam', 'Stats', 'World', 'what']```\n",
    "\n",
    "**Output 2:** ```['nurses run', 'Nurses Run', 'madam', 'Stats']```"
   ]
  },
  {
   "cell_type": "code",
   "execution_count": 2,
   "metadata": {},
   "outputs": [
    {
     "name": "stdout",
     "output_type": "stream",
     "text": [
      "['civic', 'ana']\n",
      "['nursesrun', 'nursesrun', 'madam', 'stats']\n"
     ]
    }
   ],
   "source": [
    "def palindrome(s):\n",
    "    s=s.replace(\" \", \"\").lower()\n",
    "    for i in range(int(len(s)/2)):\n",
    "        if s[i]!=s[-1-i]:\n",
    "            return False\n",
    "    return True\n",
    "\n",
    "\n",
    "def palindromes(l):\n",
    "    temp=map(lambda i: i.replace(\" \", \"\").lower(), l)\n",
    "    result=list(filter(lambda i: i==i[::-1], temp))\n",
    "    return result\n",
    "print(palindromes(['civic', 'Lambda', 'Python', 'QTM', 'Java', 'ana']))\n",
    "print(palindromes(['nurses run', 'Nurses Run', 'madam', 'Stats', 'World', 'what']))           "
   ]
  },
  {
   "cell_type": "markdown",
   "metadata": {},
   "source": [
    "**Exercise 2:** write a Python program to calculate the sum of the positive and negative numbers of a given list of numbers using lambda function.\n",
    "\n",
    "**Output:**\n",
    "\n",
    "Original list: [2, 4, -6, -9, 11, -12, 14, -5, 17]\n",
    "\n",
    "Sum of the positive numbers:  -32\n",
    "\n",
    "Sum of the negative numbers:  48"
   ]
  },
  {
   "cell_type": "code",
   "execution_count": 22,
   "metadata": {},
   "outputs": [
    {
     "name": "stdout",
     "output_type": "stream",
     "text": [
      "Sum of the positive numbers: -32\n",
      "Sum of the negative numbers: 48\n"
     ]
    }
   ],
   "source": [
    "def s(l):\n",
    "    result=0\n",
    "    for i in l:\n",
    "        result+=i\n",
    "    return result\n",
    "def Sum(l):\n",
    "    l1=list(filter(lambda x: x<0, l))\n",
    "    l2=list(filter(lambda x: x>=0, l))\n",
    "    print(\"Sum of the positive numbers:\", s(l1))\n",
    "    print(\"Sum of the negative numbers:\", s(l2))\n",
    "Sum([2, 4, -6, -9, 11, -12, 14, -5, 17])"
   ]
  },
  {
   "cell_type": "markdown",
   "metadata": {},
   "source": [
    "**Exercise 3:** write a Python program to find the maximum, minimum and average values in a given heterogeneous list using lambda.\n",
    "\n",
    "**Output:**\n",
    "\n",
    "Original list: ['I', 'love' 3, 2, 4, 5, 'Python', 12]\n",
    "\n",
    "Maximum value: 12\n",
    "\n",
    "Minimum value: 2\n",
    "\n",
    "Average value: 5.2"
   ]
  },
  {
   "cell_type": "code",
   "execution_count": 21,
   "metadata": {},
   "outputs": [
    {
     "name": "stdout",
     "output_type": "stream",
     "text": [
      "Maximum value: 12\n",
      "Minimum value: 2\n",
      "Average value: 5.2\n"
     ]
    }
   ],
   "source": [
    "import numpy as np\n",
    "def summary(l):\n",
    "    l1=list(filter(lambda x: type(x)!=str, l))\n",
    "    print(\"Maximum value:\",max(l1))\n",
    "    print(\"Minimum value:\",min(l1))\n",
    "    l1=np.array(l1)\n",
    "    print(\"Average value:\",np.average(l1))\n",
    "summary( ['I', 'love', 3, 2, 4, 5, 'Python', 12])"
   ]
  },
  {
   "cell_type": "code",
   "execution_count": null,
   "metadata": {},
   "outputs": [],
   "source": []
  }
 ],
 "metadata": {
  "kernelspec": {
   "display_name": "conda_amazonei_mxnet_p36",
   "language": "python",
   "name": "conda_amazonei_mxnet_p36"
  },
  "language_info": {
   "codemirror_mode": {
    "name": "ipython",
    "version": 3
   },
   "file_extension": ".py",
   "mimetype": "text/x-python",
   "name": "python",
   "nbconvert_exporter": "python",
   "pygments_lexer": "ipython3",
   "version": "3.6.13"
  },
  "vscode": {
   "interpreter": {
    "hash": "9fbb33e86ca55080a202fed700efde3fb4ffe3f46131e5b52201b9ba06ce5f72"
   }
  }
 },
 "nbformat": 4,
 "nbformat_minor": 4
}
